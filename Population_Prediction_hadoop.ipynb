{
  "cells": [
    {
      "cell_type": "code",
      "execution_count": 2,
      "metadata": {
        "colab": {
          "base_uri": "https://localhost:8080/"
        },
        "id": "FucG9dU-819l",
        "outputId": "30639afd-fb36-4499-a770-559b5763b380"
      },
      "outputs": [
        {
          "output_type": "stream",
          "name": "stdout",
          "text": [
            "Collecting mrjob\n",
            "  Downloading mrjob-0.7.4-py2.py3-none-any.whl.metadata (7.3 kB)\n",
            "Requirement already satisfied: scikit-learn in /usr/local/lib/python3.11/dist-packages (1.6.1)\n",
            "Requirement already satisfied: matplotlib in /usr/local/lib/python3.11/dist-packages (3.10.0)\n",
            "Requirement already satisfied: pandas in /usr/local/lib/python3.11/dist-packages (2.2.2)\n",
            "Requirement already satisfied: PyYAML>=3.10 in /usr/local/lib/python3.11/dist-packages (from mrjob) (6.0.2)\n",
            "Requirement already satisfied: numpy>=1.19.5 in /usr/local/lib/python3.11/dist-packages (from scikit-learn) (2.0.2)\n",
            "Requirement already satisfied: scipy>=1.6.0 in /usr/local/lib/python3.11/dist-packages (from scikit-learn) (1.14.1)\n",
            "Requirement already satisfied: joblib>=1.2.0 in /usr/local/lib/python3.11/dist-packages (from scikit-learn) (1.4.2)\n",
            "Requirement already satisfied: threadpoolctl>=3.1.0 in /usr/local/lib/python3.11/dist-packages (from scikit-learn) (3.6.0)\n",
            "Requirement already satisfied: contourpy>=1.0.1 in /usr/local/lib/python3.11/dist-packages (from matplotlib) (1.3.1)\n",
            "Requirement already satisfied: cycler>=0.10 in /usr/local/lib/python3.11/dist-packages (from matplotlib) (0.12.1)\n",
            "Requirement already satisfied: fonttools>=4.22.0 in /usr/local/lib/python3.11/dist-packages (from matplotlib) (4.56.0)\n",
            "Requirement already satisfied: kiwisolver>=1.3.1 in /usr/local/lib/python3.11/dist-packages (from matplotlib) (1.4.8)\n",
            "Requirement already satisfied: packaging>=20.0 in /usr/local/lib/python3.11/dist-packages (from matplotlib) (24.2)\n",
            "Requirement already satisfied: pillow>=8 in /usr/local/lib/python3.11/dist-packages (from matplotlib) (11.1.0)\n",
            "Requirement already satisfied: pyparsing>=2.3.1 in /usr/local/lib/python3.11/dist-packages (from matplotlib) (3.2.1)\n",
            "Requirement already satisfied: python-dateutil>=2.7 in /usr/local/lib/python3.11/dist-packages (from matplotlib) (2.8.2)\n",
            "Requirement already satisfied: pytz>=2020.1 in /usr/local/lib/python3.11/dist-packages (from pandas) (2025.1)\n",
            "Requirement already satisfied: tzdata>=2022.7 in /usr/local/lib/python3.11/dist-packages (from pandas) (2025.1)\n",
            "Requirement already satisfied: six>=1.5 in /usr/local/lib/python3.11/dist-packages (from python-dateutil>=2.7->matplotlib) (1.17.0)\n",
            "Downloading mrjob-0.7.4-py2.py3-none-any.whl (439 kB)\n",
            "\u001b[2K   \u001b[90m━━━━━━━━━━━━━━━━━━━━━━━━━━━━━━━━━━━━━━━━\u001b[0m \u001b[32m439.6/439.6 kB\u001b[0m \u001b[31m5.3 MB/s\u001b[0m eta \u001b[36m0:00:00\u001b[0m\n",
            "\u001b[?25hInstalling collected packages: mrjob\n",
            "Successfully installed mrjob-0.7.4\n"
          ]
        }
      ],
      "source": [
        "!pip install mrjob scikit-learn matplotlib pandas\n",
        "!apt-get install openjdk-8-jdk -qq > /dev/null"
      ]
    },
    {
      "cell_type": "code",
      "execution_count": 4,
      "metadata": {
        "colab": {
          "base_uri": "https://localhost:8080/"
        },
        "id": "0Bbk3e4p87XY",
        "outputId": "273bd17e-ffe3-4bec-a254-b35c18ae0529"
      },
      "outputs": [
        {
          "output_type": "stream",
          "name": "stdout",
          "text": [
            "Mounted at /content/drive\n",
            "   Rank CCA3 Country/Territory           Capital Continent  2022 Population  \\\n",
            "0    36  AFG       Afghanistan             Kabul      Asia         41128771   \n",
            "1   138  ALB           Albania            Tirana    Europe          2842321   \n",
            "2    34  DZA           Algeria           Algiers    Africa         44903225   \n",
            "3   213  ASM    American Samoa         Pago Pago   Oceania            44273   \n",
            "4   203  AND           Andorra  Andorra la Vella    Europe            79824   \n",
            "\n",
            "   2020 Population  2015 Population  2010 Population  2000 Population  \\\n",
            "0         38972230         33753499         28189672         19542982   \n",
            "1          2866849          2882481          2913399          3182021   \n",
            "2         43451666         39543154         35856344         30774621   \n",
            "3            46189            51368            54849            58230   \n",
            "4            77700            71746            71519            66097   \n",
            "\n",
            "   1990 Population  1980 Population  1970 Population  Area (km²)  \\\n",
            "0         10694796         12486631         10752971      652230   \n",
            "1          3295066          2941651          2324731       28748   \n",
            "2         25518074         18739378         13795915     2381741   \n",
            "3            47818            32886            27075         199   \n",
            "4            53569            35611            19860         468   \n",
            "\n",
            "   Density (per km²)  Growth Rate  World Population Percentage  \n",
            "0            63.0587       1.0257                         0.52  \n",
            "1            98.8702       0.9957                         0.04  \n",
            "2            18.8531       1.0164                         0.56  \n",
            "3           222.4774       0.9831                         0.00  \n",
            "4           170.5641       1.0100                         0.00  \n",
            "  Country/Territory  2022 Population  2020 Population  2015 Population  \\\n",
            "0       Afghanistan         41128771         38972230         33753499   \n",
            "1           Albania          2842321          2866849          2882481   \n",
            "2           Algeria         44903225         43451666         39543154   \n",
            "3    American Samoa            44273            46189            51368   \n",
            "4           Andorra            79824            77700            71746   \n",
            "\n",
            "   2010 Population  2000 Population  \n",
            "0         28189672         19542982  \n",
            "1          2913399          3182021  \n",
            "2         35856344         30774621  \n",
            "3            54849            58230  \n",
            "4            71519            66097  \n"
          ]
        }
      ],
      "source": [
        "import pandas as pd\n",
        "from google.colab import drive\n",
        "drive.mount('/content/drive')\n",
        "\n",
        "\n",
        "# Path to the file in Google Drive\n",
        "file_path = '/content/drive/My Drive/world_population.csv'\n",
        "\n",
        "# Load dataset\n",
        "df = pd.read_csv(file_path, sep=\";\")\n",
        "print(df.head())\n",
        "\n",
        "# Select relevant columns and clean data\n",
        "population_df = df[['Country/Territory', '2022 Population', '2020 Population',\n",
        "                   '2015 Population', '2010 Population', '2000 Population']]\n",
        "population_df = population_df.dropna()\n",
        "print(population_df.head())"
      ]
    },
    {
      "cell_type": "code",
      "execution_count": 5,
      "metadata": {
        "colab": {
          "base_uri": "https://localhost:8080/"
        },
        "id": "AIvlaN6k92Ws",
        "outputId": "36f0201d-231c-480d-a1df-c77ba2229561"
      },
      "outputs": [
        {
          "output_type": "stream",
          "name": "stdout",
          "text": [
            "Writing population_mr.py\n"
          ]
        }
      ],
      "source": [
        "%%writefile population_mr.py\n",
        "from mrjob.job import MRJob\n",
        "import pandas as pd\n",
        "\n",
        "class MRPopulationAnalysis(MRJob):\n",
        "    def mapper(self, _, line):\n",
        "        if not line.startswith(\"Rank\"):  # Skip header\n",
        "            parts = line.split(';')\n",
        "            country = parts[2]\n",
        "            pop_2022 = float(parts[5])\n",
        "            yield country, pop_2022\n",
        "\n",
        "    def reducer(self, country, values):\n",
        "        pops = list(values)\n",
        "        yield country, sum(pops)/len(pops)  # Average population\n",
        "\n",
        "if __name__ == '__main__':\n",
        "    MRPopulationAnalysis.run()"
      ]
    },
    {
      "cell_type": "code",
      "execution_count": 22,
      "metadata": {
        "colab": {
          "base_uri": "https://localhost:8080/"
        },
        "id": "A-fQCAlkA5vd",
        "outputId": "d1ddc578-36ef-4202-cf01-f9075fbc17f4"
      },
      "outputs": [
        {
          "output_type": "stream",
          "name": "stdout",
          "text": [
            "Enter the country name to predict future population: india\n",
            "Predicted population for india:\n",
            "2030: 1,571,805,715\n",
            "2050: 1,922,291,505\n"
          ]
        }
      ],
      "source": [
        "import pandas as pd\n",
        "import numpy as np\n",
        "import sqlite3\n",
        "from sklearn.preprocessing import PolynomialFeatures\n",
        "from sklearn.pipeline import make_pipeline\n",
        "from sklearn.linear_model import LinearRegression\n",
        "\n",
        "# Load your dataset\n",
        "df = pd.read_csv(file_path, sep=\";\")\n",
        "\n",
        "# Clean column names by removing spaces and special characters\n",
        "df.columns = [col.replace(' ', '_').replace('(', '').replace(')', '').replace('/', '_') for col in df.columns]\n",
        "\n",
        "# Select relevant columns\n",
        "population_df = df[['Country_Territory', '2022_Population', '2020_Population',\n",
        "                   '2015_Population', '2010_Population', '2000_Population',\n",
        "                   '1990_Population', '1980_Population', '1970_Population']]\n",
        "\n",
        "# Create SQLite database and store data\n",
        "conn = sqlite3.connect('population.db')\n",
        "population_df.to_sql('world_population', conn, if_exists='replace', index=False)\n",
        "\n",
        "# Function to predict population for a given country\n",
        "def predict_population(country_name):\n",
        "    # Ensure the country is in the dataset\n",
        "    country_data = population_df[population_df['Country_Territory'].str.lower() == country_name.lower()]\n",
        "\n",
        "    if country_data.empty:\n",
        "        print(f\"Country '{country_name}' not found in the dataset.\")\n",
        "        return\n",
        "\n",
        "    # Prepare data (using 2000-2022 data for regression)\n",
        "    X = np.array([1970, 1980, 1990, 2000, 2010, 2015, 2020, 2022]).reshape(-1, 1)\n",
        "    y = country_data.iloc[0][['1970_Population', '1980_Population', '1990_Population',\n",
        "                              '2000_Population', '2010_Population', '2015_Population',\n",
        "                              '2020_Population', '2022_Population']].values\n",
        "\n",
        "    # Train polynomial regression model (degree 2 for better curve fitting)\n",
        "    degree = 2\n",
        "    model = make_pipeline(PolynomialFeatures(degree), LinearRegression())\n",
        "    model.fit(X, y)\n",
        "\n",
        "    # Predict for 2030 and 2050\n",
        "    future_years = np.array([2030, 2050]).reshape(-1, 1)\n",
        "    predictions = model.predict(future_years)\n",
        "\n",
        "    print(f\"Predicted population for {country_name}:\")\n",
        "    for year, pop in zip(future_years.flatten(), predictions.flatten()):\n",
        "        print(f\"{year}: {pop:,.0f}\")\n",
        "\n",
        "# Get user input for country name\n",
        "country_name = input(\"Enter the country name to predict future population: \")\n",
        "\n",
        "# Call the prediction function for the given country\n",
        "predict_population(country_name)\n",
        "\n",
        "# Close the database connection\n",
        "conn.close()\n"
      ]
    },
    {
      "cell_type": "code",
      "execution_count": 17,
      "metadata": {
        "colab": {
          "base_uri": "https://localhost:8080/",
          "height": 472
        },
        "id": "1IUSA3dKBLCY",
        "outputId": "f24f2a6d-dfd3-4e92-c48f-a1bc408ab637"
      },
      "outputs": [
        {
          "output_type": "display_data",
          "data": {
            "text/plain": [
              "<Figure size 640x480 with 1 Axes>"
            ],
            "image/png": "[encoded data removed]"
          },
          "metadata": {}
        }
      ],
      "source": [
        "import matplotlib.pyplot as plt\n",
        "\n",
        "# Historical data\n",
        "years = [1970, 1980, 1990, 2000, 2010, 2015, 2020, 2022]\n",
        "plt.scatter(years, y, color='blue', label='Historical Data')\n",
        "\n",
        "# Regression line\n",
        "plt.plot(years, model.predict(np.array(years).reshape(-1, 1)), 'r-', label='Regression Line')\n",
        "\n",
        "# Predictions\n",
        "plt.scatter(future_years, predictions, color='green', label='Future Predictions')\n",
        "\n",
        "plt.xlabel('Year')\n",
        "plt.ylabel('Population')\n",
        "plt.title(f\"Population Prediction for {population_df.iloc[0]['Country_Territory']}\")\n",
        "plt.legend()\n",
        "plt.grid(True)\n",
        "plt.show()"
      ]
    }
  ],
  "metadata": {
    "colab": {
      "provenance": []
    },
    "kernelspec": {
      "display_name": "Python 3",
      "name": "python3"
    },
    "language_info": {
      "name": "python"
    }
  },
  "nbformat": 4,
  "nbformat_minor": 0
}